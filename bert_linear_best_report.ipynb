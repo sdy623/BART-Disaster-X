{
 "cells": [
  {
   "cell_type": "markdown",
   "metadata": {},
   "source": [
    "# Report of the best model (BERT+Linear)"
   ]
  },
  {
   "attachments": {},
   "cell_type": "markdown",
   "metadata": {},
   "source": [
    "Running the following cells will train the model using settings that are shown."
   ]
  },
  {
   "cell_type": "markdown",
   "metadata": {},
   "source": [
    "## Macro-F1 0.8677"
   ]
  },
  {
   "cell_type": "code",
   "execution_count": null,
   "metadata": {
    "ExecuteTime": {
     "end_time": "2024-12-20T09:27:36.499323Z",
     "start_time": "2024-12-20T09:27:29.214207Z"
    }
   },
   "outputs": [],
   "source": [
    "import torch\n",
    "\n",
    "import lightning.pytorch as pl\n",
    "from lightning.pytorch.callbacks import EarlyStopping, ModelCheckpoint, LearningRateMonitor\n",
    "from lightning.pytorch.loggers import CSVLogger, CometLogger, TensorBoardLogger\n",
    "from lightning.pytorch.profilers import PyTorchProfiler\n",
    "\n",
    "from dvclive.lightning import DVCLiveLogger\n",
    "\n",
    "from datamodule import AutoTokenizerDataModule\n",
    "from module import CustomModel, LinearBAModel, LinearBEModel\n",
    "from utils import create_dirs\n",
    "from config import Config, DataModuleConfig, ModuleConfig\n",
    "\n",
    "from typing import Optional, Union, List, Tuple\n",
    "import numpy as np"
   ]
  },
  {
   "cell_type": "code",
   "execution_count": null,
   "metadata": {
    "ExecuteTime": {
     "end_time": "2024-12-20T09:27:36.530795Z",
     "start_time": "2024-12-20T09:27:36.511327Z"
    }
   },
   "outputs": [],
   "source": [
    "pl.seed_everything(59631546)"
   ]
  },
  {
   "cell_type": "code",
   "execution_count": null,
   "metadata": {
    "ExecuteTime": {
     "end_time": "2024-12-20T09:27:36.624317Z",
     "start_time": "2024-12-20T09:27:36.609675Z"
    }
   },
   "outputs": [],
   "source": [
    "from huggingface_hub import login\n",
    "import os\n",
    "token = os.getenv('HUG_FACE_TOKEN')\n",
    "login(token)"
   ]
  },
  {
   "attachments": {},
   "cell_type": "markdown",
   "metadata": {},
   "source": [
    "First, let's configure some basic settings"
   ]
  },
  {
   "cell_type": "code",
   "execution_count": null,
   "metadata": {},
   "outputs": [],
   "source": [
    "class ModuleConfig:\n",
    "    model_name: str = \"Twitter/twhin-bert-base\" # change this to use a different pretrained checkpoint and tokenizer\n",
    "    # model_name: str = \"nvidia/NV-Embed-v2\" # change this to use a different pretrained checkpoint and tokenizer\n",
    "    learning_rate: float = 2e-5\n",
    "    learning_rate_bert: float = 1.2e-5\n",
    "    learning_rate_lstm: float = 7e-5\n",
    "    finetuned: str = \"checkpoints/twhin-bert-base-finetuned\" # change this to use a different pretrained checkpoint and tokenizer\n",
    "    max_length: int = 128\n",
    "    attention_probs_dropout: float = 0.1\n",
    "    classifier_dropout: Optional[float] = None\n",
    "    warming_steps: int = 100\n",
    "    focal_gamma: float = 2.0"
   ]
  },
  {
   "cell_type": "code",
   "execution_count": null,
   "metadata": {
    "ExecuteTime": {
     "end_time": "2024-12-20T09:27:36.654297Z",
     "start_time": "2024-12-20T09:27:36.641318Z"
    }
   },
   "outputs": [],
   "source": [
    "# model and dataset\n",
    "model_name = ModuleConfig.model_name # change this to use a different pretrained checkpoint and tokenizer\n",
    "\n",
    "max_length = ModuleConfig.max_length\n",
    "lr = ModuleConfig.learning_rate\n",
    "dataset_name = DataModuleConfig.dataset_name\n",
    "batch_size = DataModuleConfig.batch_size\n",
    "\n",
    "# paths\n",
    "cache_dir = Config.cache_dir\n",
    "log_dir = Config.log_dir\n",
    "ckpt_dir = Config.ckpt_dir\n",
    "prof_dir = Config.prof_dir\n",
    "perf_dir = Config.perf_dir\n",
    "# creates dirs to avoid failure if empty dir has been deleted\n",
    "create_dirs([cache_dir, log_dir, ckpt_dir, prof_dir, perf_dir])\n",
    "\n",
    "# set matmul precision\n",
    "# see https://pytorch.org/docs/stable/generated/torch.set_float32_matmul_precision.html\n",
    "torch.set_float32_matmul_precision(\"medium\")"
   ]
  },
  {
   "cell_type": "markdown",
   "metadata": {},
   "source": [
    "Now, we can define our LightningDataModule, which will be used by Trainer for its DataLoaders"
   ]
  },
  {
   "cell_type": "code",
   "execution_count": null,
   "metadata": {
    "ExecuteTime": {
     "end_time": "2024-12-20T09:27:36.717692Z",
     "start_time": "2024-12-20T09:27:36.702691Z"
    }
   },
   "outputs": [],
   "source": [
    "lit_datamodule = AutoTokenizerDataModule(\n",
    "    model_name=model_name,\n",
    "    dataset_name=dataset_name,\n",
    "    cache_dir=cache_dir,\n",
    "    batch_size=batch_size,\n",
    "    max_length=max_length\n",
    ")"
   ]
  },
  {
   "cell_type": "code",
   "execution_count": null,
   "metadata": {
    "ExecuteTime": {
     "end_time": "2024-12-20T09:27:36.748695Z",
     "start_time": "2024-12-20T09:27:36.733696Z"
    }
   },
   "outputs": [],
   "source": [
    "#lit_datamodule.clear_custom_cache()"
   ]
  },
  {
   "cell_type": "code",
   "execution_count": null,
   "metadata": {
    "ExecuteTime": {
     "end_time": "2024-12-20T09:27:45.202154Z",
     "start_time": "2024-12-20T09:27:36.766458Z"
    }
   },
   "outputs": [],
   "source": [
    "lit_datamodule.prepare_data()"
   ]
  },
  {
   "cell_type": "code",
   "execution_count": null,
   "metadata": {
    "ExecuteTime": {
     "end_time": "2024-12-20T09:27:59.765808Z",
     "start_time": "2024-12-20T09:27:45.219157Z"
    }
   },
   "outputs": [],
   "source": [
    "lit_datamodule.setup(\"fit\")"
   ]
  },
  {
   "attachments": {},
   "cell_type": "markdown",
   "metadata": {},
   "source": [
    "and our custom LightningModule with ResNet"
   ]
  },
  {
   "cell_type": "code",
   "execution_count": null,
   "metadata": {
    "ExecuteTime": {
     "end_time": "2024-12-20T09:27:59.797812Z",
     "start_time": "2024-12-20T09:27:59.783810Z"
    }
   },
   "outputs": [],
   "source": [
    "#lit_datamodule.setup(\"test\")"
   ]
  },
  {
   "cell_type": "code",
   "execution_count": null,
   "metadata": {},
   "outputs": [],
   "source": [
    "be_linear_model = LinearBEModel(learning_rate=lr)"
   ]
  },
  {
   "attachments": {},
   "cell_type": "markdown",
   "metadata": {},
   "source": [
    "next - we are going to define some common callbacks, and our most basic logger - CSVLogger.\n",
    "\n",
    "EarlyStopping callback helps us to end training early if a convergence criteria is met before the max-iteration setting is reached.\n",
    "\n",
    "ModelCheckpoint saves the model periodically, and after training finishes, uses best_model_path to retrieve the path to the best checkpoint file and best_model_score to retrieve its score."
   ]
  },
  {
   "cell_type": "code",
   "execution_count": null,
   "metadata": {
    "ExecuteTime": {
     "end_time": "2024-12-20T09:28:00.605592Z",
     "start_time": "2024-12-20T09:28:00.591592Z"
    }
   },
   "outputs": [],
   "source": [
    "callbacks = [\n",
    "    EarlyStopping(monitor=\"val_f1\", mode=\"max\", patience=3),\n",
    "    ModelCheckpoint(\n",
    "        dirpath=ckpt_dir,\n",
    "        monitor=\"val_f1\",\n",
    "        filename=\"model\",\n",
    "        save_top_k=3,\n",
    "        mode=\"max\",\n",
    "        save_weights_only=True,\n",
    "    ),\n",
    "\n",
    "    #LoRACheckpoint(\n",
    "    #    monitor='val_f1',  # モニターするメトリクス\n",
    "    #    filename='model-{epoch:02d}-{val_acc:.2f}',\n",
    "    #    save_top_k=3,       # 保存するトップkモデルの数\n",
    "    #    mode='max',         # 'max'は検証精度が最大のときに保存\n",
    "    #),\n",
    "    LearningRateMonitor(logging_interval='step'),\n",
    "\n",
    "    ]"
   ]
  },
  {
   "cell_type": "code",
   "execution_count": null,
   "metadata": {
    "ExecuteTime": {
     "end_time": "2024-12-20T09:28:00.668166Z",
     "start_time": "2024-12-20T09:28:00.653250Z"
    }
   },
   "outputs": [],
   "source": [
    "logger = CSVLogger(\n",
    "    save_dir=log_dir,\n",
    "    name=\"csv-logs\",\n",
    ")"
   ]
  },
  {
   "attachments": {},
   "cell_type": "markdown",
   "metadata": {},
   "source": [
    "Finally – we create our Trainer and pass in our flags (settings), the callbacks and loggers.  Then we call fit!"
   ]
  },
  {
   "cell_type": "code",
   "execution_count": null,
   "metadata": {
    "ExecuteTime": {
     "end_time": "2024-12-20T09:28:00.698529Z",
     "start_time": "2024-12-20T09:28:00.685235Z"
    }
   },
   "outputs": [],
   "source": [
    "def print_seed():\n",
    "    torch_init_seed = torch.initial_seed()\n",
    "    torch_cuda_seed = torch.cuda.initial_seed()\n",
    "    numpy_seed = np.random.get_state()[1][0]\n",
    "\n",
    "    print(f\"pytorch seed: {torch_init_seed}\")\n",
    "    print(f\"cuda seed: {torch_cuda_seed}\")\n",
    "    print(f\"numpy seed: {numpy_seed}\")"
   ]
  },
  {
   "cell_type": "code",
   "execution_count": null,
   "metadata": {
    "ExecuteTime": {
     "end_time": "2024-12-20T09:28:00.729976Z",
     "start_time": "2024-12-20T09:28:00.714834Z"
    }
   },
   "outputs": [],
   "source": [
    "pl.seed_everything(59631546)"
   ]
  },
  {
   "cell_type": "code",
   "execution_count": null,
   "metadata": {
    "ExecuteTime": {
     "end_time": "2024-12-20T09:28:00.775423Z",
     "start_time": "2024-12-20T09:28:00.746487Z"
    }
   },
   "outputs": [],
   "source": [
    "print_seed()"
   ]
  },
  {
   "cell_type": "code",
   "execution_count": null,
   "metadata": {
    "ExecuteTime": {
     "end_time": "2024-12-20T09:28:01.011199Z",
     "start_time": "2024-12-20T09:28:00.793475Z"
    }
   },
   "outputs": [],
   "source": [
    "lit_trainer = pl.Trainer(\n",
    "    accelerator=\"auto\",\n",
    "    devices=\"auto\",\n",
    "    strategy=\"auto\",\n",
    "    precision=\"16-mixed\",\n",
    "    max_epochs=8,\n",
    "    deterministic=True,\n",
    "    logger=[logger, CometLogger(api_key=\"YOUR_COMET_API_KEY\"), DVCLiveLogger(save_dvc_exp=True)],\n",
    "    callbacks=callbacks,\n",
    ")"
   ]
  },
  {
   "cell_type": "code",
   "execution_count": null,
   "metadata": {
    "ExecuteTime": {
     "end_time": "2024-12-20T09:28:01.135485Z",
     "start_time": "2024-12-20T09:28:01.122485Z"
    }
   },
   "outputs": [],
   "source": [
    "torch.cuda.empty_cache()"
   ]
  },
  {
   "cell_type": "code",
   "execution_count": null,
   "metadata": {},
   "outputs": [],
   "source": [
    "model = be_linear_model.load_from_checkpoint(r\"e:\\bert-twetter-disaster-model-trained\\checkpoints\\model-v44.ckpt\")"
   ]
  },
  {
   "cell_type": "code",
   "execution_count": null,
   "metadata": {
    "ExecuteTime": {
     "end_time": "2024-12-20T09:28:05.330578Z",
     "start_time": "2024-12-20T09:28:05.317448Z"
    }
   },
   "outputs": [],
   "source": [
    "model"
   ]
  },
  {
   "cell_type": "code",
   "execution_count": null,
   "metadata": {
    "ExecuteTime": {
     "end_time": "2024-12-20T09:29:02.890420Z",
     "start_time": "2024-12-20T09:28:53.092671Z"
    }
   },
   "outputs": [],
   "source": [
    "from sklearn.metrics import classification_report\n",
    "\n",
    "#lit_trainer.validate(model=model, datamodule=lit_datamodule)\n",
    "# Run validation\n",
    "# results = lit_trainer.validate(model=model, datamodule=lit_datamodule)\n",
    "results = lit_trainer.validate(model=model, datamodule=lit_datamodule)"
   ]
  },
  {
   "cell_type": "code",
   "execution_count": null,
   "metadata": {
    "ExecuteTime": {
     "end_time": "2024-12-20T09:29:31.811203Z",
     "start_time": "2024-12-20T09:29:31.796335Z"
    }
   },
   "outputs": [],
   "source": [
    "results"
   ]
  },
  {
   "cell_type": "code",
   "execution_count": null,
   "metadata": {
    "ExecuteTime": {
     "end_time": "2024-12-20T09:29:35.194568Z",
     "start_time": "2024-12-20T09:29:35.113057Z"
    }
   },
   "outputs": [],
   "source": [
    "y_true = [label for batch in lit_datamodule.val_dataloader() for label in batch[\"label\"].numpy()]\n",
    "device = torch.device(\"cuda\" if torch.cuda.is_available() else \"cpu\")\n",
    "model = model.to(device)\n",
    "\n",
    "model.eval()\n",
    "from tqdm.notebook import tqdm\n",
    "# Prepare list for storing inf results\n",
    "y_pred = []\n",
    "\n",
    "# Disable grad for inf\n",
    "with torch.no_grad():\n",
    "    for batch in tqdm(lit_datamodule.val_dataloader()):\n",
    "        #print(batch)\n",
    "        input_ids = batch[model.input_key].to(model.device)\n",
    "        attention_mask = batch[model.mask_key].to(model.device)\n",
    "        #token_type_ids = batch[\"token_type_ids\"]\n",
    "        \n",
    "        logits = model(input_ids=input_ids, attention_mask=attention_mask)\n",
    "        \n",
    "        #print(torch.sigmoid(logits[:, 1]))\n",
    "        preds = (torch.sigmoid(logits)> 0.5).int()\n",
    "\n",
    "        y_pred.extend(preds.cpu().numpy())"
   ]
  },
  {
   "cell_type": "code",
   "execution_count": null,
   "metadata": {
    "ExecuteTime": {
     "end_time": "2024-12-20T09:29:38.931746Z",
     "start_time": "2024-12-20T09:29:38.921745Z"
    }
   },
   "outputs": [],
   "source": [
    "label_order = [\n",
    "    \"non_disaster\",\n",
    "    \"disaster\",\n",
    "    \"flood\",\n",
    "    \"extreme_rain\",\n",
    "    \"earthquake\",\n",
    "    \"typhoon\",\n",
    "    \"landslide\",\n",
    "    \"tsunami\",\n",
    "    \"volcano\",\n",
    "    \"wildfire\",\n",
    "    \"informative\",\n",
    "    \"non_informative\"\n",
    "]\n"
   ]
  },
  {
   "cell_type": "code",
   "execution_count": null,
   "metadata": {
    "ExecuteTime": {
     "end_time": "2024-12-20T09:29:39.694271Z",
     "start_time": "2024-12-20T09:29:39.669188Z"
    }
   },
   "outputs": [],
   "source": [
    "report = classification_report(y_true, y_pred, target_names=label_order, digits=4)"
   ]
  },
  {
   "cell_type": "code",
   "execution_count": null,
   "metadata": {
    "ExecuteTime": {
     "end_time": "2024-12-20T09:29:40.828827Z",
     "start_time": "2024-12-20T09:29:40.814827Z"
    }
   },
   "outputs": [],
   "source": [
    "print(report)"
   ]
  },
  {
   "cell_type": "code",
   "execution_count": null,
   "metadata": {},
   "outputs": [],
   "source": [
    "from plot_classification_report import plot_classification_report"
   ]
  },
  {
   "cell_type": "code",
   "execution_count": null,
   "metadata": {},
   "outputs": [],
   "source": [
    "report = '''\n",
    "Fill in the classification report here\n",
    "'''"
   ]
  },
  {
   "cell_type": "code",
   "execution_count": null,
   "metadata": {},
   "outputs": [],
   "source": [
    "a = plot_classification_report(report)"
   ]
  }
 ],
 "metadata": {
  "kernelspec": {
   "display_name": "tw-ai",
   "language": "python",
   "name": "python3"
  },
  "language_info": {
   "codemirror_mode": {
    "name": "ipython",
    "version": 3
   },
   "file_extension": ".py",
   "mimetype": "text/x-python",
   "name": "python",
   "nbconvert_exporter": "python",
   "pygments_lexer": "ipython3",
   "version": "3.10.14"
  }
 },
 "nbformat": 4,
 "nbformat_minor": 4
}
